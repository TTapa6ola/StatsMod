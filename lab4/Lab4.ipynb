{
 "cells": [
  {
   "cell_type": "markdown",
   "id": "8cb97170",
   "metadata": {},
   "source": [
    "# Лабораторная работа №4\n",
    "# Статистическое моделирование функционирования системы с запасными элементами"
   ]
  },
  {
   "cell_type": "markdown",
   "id": "bcf22519",
   "metadata": {},
   "source": [
    "## Постановка задачи\n",
    "\n",
    "Рассматривается автоматизированная система, структурно-надежностная схема которой и ЛФРС известна. Система состоит из m различных по типу элементов, по каждому типу в схеме  ni  одинаковых элементов, и Li запасных частей (ЗЧ). Поток отказов элементов системы простейший, это означает, что время наработки до отказа подчиняется экспоненциальному закону с параметром λi. Система функционирует в режиме непрерывного длительного применения и в случае отказа, элемент заменяется на работоспособную запасную часть, если количество оставшихся ЗЧ больше нуля. Считаем, что замена происходит быстро и то время, за которое меняется элемент, не влияет на работоспособность системы. \n",
    "\n",
    "Требуется определить, используя метод статистического моделирования, какое минимальное количество ЗЧ необходимо, чтобы вероятность безотказной работы (ВБР) системы за время T была не менее P0. "
   ]
  },
  {
   "attachments": {
    "image.png": {
     "image/png": "[encoded data removed]"
    }
   },
   "cell_type": "markdown",
   "id": "419fbdd9",
   "metadata": {},
   "source": [
    "![image.png](attachment:image.png)"
   ]
  },
  {
   "attachments": {
    "image.png": {
     "image/png": "[encoded data removed]"
    }
   },
   "cell_type": "markdown",
   "id": "a17fb540",
   "metadata": {},
   "source": [
    "![image.png](attachment:image.png)"
   ]
  },
  {
   "cell_type": "markdown",
   "id": "abb52338",
   "metadata": {},
   "source": [
    "## Решение\n",
    "\n",
    "Для начала определим количество реализаций N по формуле:\n",
    "$$ N = t_{\\alpha}^2 \\frac{ P(1-P)}{\\varepsilon^2}, $$ где $t_{\\alpha}$ квантиль нормального распределения по уровню $\\alpha$, Р - вероятность безотказной работы, $\\varepsilon$ - относительная точность."
   ]
  },
  {
   "cell_type": "markdown",
   "id": "4449b3fc",
   "metadata": {},
   "source": [
    "Для $\\alpha = 0.99, \\varepsilon = 0.001, t_{\\alpha} = 2.33$. Подставим в формулу и получим $$ N = t_{\\alpha}^2 \\frac{ P(1-P)}{\\varepsilon^2} = 53746 $$"
   ]
  },
  {
   "cell_type": "markdown",
   "id": "207510d9",
   "metadata": {},
   "source": [
    "Составим ЛФРС"
   ]
  },
  {
   "cell_type": "markdown",
   "id": "6903603b",
   "metadata": {},
   "source": [
    "$$ F = ((x_{0} \\vee (x_{1} \\wedge x_{2})) \\wedge (x_{3} \\wedge x_{4}) \\wedge (x_{5} \\vee x_{6} \\vee x_{7})) $$"
   ]
  },
  {
   "cell_type": "code",
   "execution_count": 12,
   "id": "dcba6f70",
   "metadata": {},
   "outputs": [],
   "source": [
    "import numpy as np\n",
    "import random"
   ]
  },
  {
   "cell_type": "code",
   "execution_count": 13,
   "id": "3f37fd61",
   "metadata": {},
   "outputs": [],
   "source": [
    "m = 3\n",
    "l = [4e-5, 1e-5, 8e-5]\n",
    "p0 = 0.99\n",
    "t = 8760\n",
    "els = [0] * 3\n",
    "n = 53746"
   ]
  },
  {
   "cell_type": "code",
   "execution_count": 14,
   "id": "d8cfcee7",
   "metadata": {},
   "outputs": [],
   "source": [
    "def exp_dist(b):\n",
    "    u = random.random() + 1e-6\n",
    "    return -np.log(u) / b"
   ]
  },
  {
   "cell_type": "code",
   "execution_count": 15,
   "id": "9d0f6615",
   "metadata": {},
   "outputs": [],
   "source": [
    "def lfrs(x):\n",
    "    l = []\n",
    "    for el in x:\n",
    "        l.append(el > t)\n",
    "    \n",
    "    return (l[0] or (l[1] and l[2])) and l[3] and l[4] and (l[5] or l[6] or l[7])"
   ]
  },
  {
   "cell_type": "code",
   "execution_count": 16,
   "id": "206c371f",
   "metadata": {},
   "outputs": [],
   "source": [
    "def monte_karlo():\n",
    "    d = 0\n",
    "    num_of_els = [3, 2, 3]\n",
    "    \n",
    "    for i in range(n):\n",
    "        x = []\n",
    "        for j in range(m):\n",
    "            tmp = []\n",
    "            for k in range(num_of_els[j]):\n",
    "                tmp.append(exp_dist(l[j]))\n",
    "            for k in range(els[j]):\n",
    "                tmp[tmp.index(min(tmp))] += exp_dist(l[j])\n",
    "            for k in range(num_of_els[j]):\n",
    "                x.append(tmp[k])\n",
    "        if not lfrs(x):\n",
    "            d += 1\n",
    "    return 1 - d/n"
   ]
  },
  {
   "cell_type": "code",
   "execution_count": 25,
   "id": "f82d64b6",
   "metadata": {},
   "outputs": [
    {
     "name": "stdout",
     "output_type": "stream",
     "text": [
      "Минимальное количество запчастей =  8\n",
      "p =  0.9908086183157816\n",
      "els = [3, 2, 3]\n"
     ]
    }
   ],
   "source": [
    "els = [0, 0, 0]\n",
    "while True:\n",
    "    p = [0., 0., 0.]\n",
    "    for i in range(len(els)):\n",
    "        els[i] += 1\n",
    "        p[i] = monte_karlo()\n",
    "        els[i] -= 1\n",
    "    els[p.index(max(p))] += 1\n",
    "    if max(p) >= p0:\n",
    "        print(\"Минимальное количество запчастей = \", sum(els))\n",
    "        print(\"p = \", monte_karlo())\n",
    "        print(\"els =\", els)\n",
    "        break"
   ]
  }
 ],
 "metadata": {
  "kernelspec": {
   "display_name": "Python 3",
   "language": "python",
   "name": "python3"
  },
  "language_info": {
   "codemirror_mode": {
    "name": "ipython",
    "version": 3
   },
   "file_extension": ".py",
   "mimetype": "text/x-python",
   "name": "python",
   "nbconvert_exporter": "python",
   "pygments_lexer": "ipython3",
   "version": "3.9.7"
  }
 },
 "nbformat": 4,
 "nbformat_minor": 5
}
