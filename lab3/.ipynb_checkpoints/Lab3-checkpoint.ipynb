{
 "cells": [
  {
   "cell_type": "markdown",
   "id": "e208ca38",
   "metadata": {},
   "source": [
    "# ЛАБОРАТОРНАЯ РАБОТА N 3\n",
    "# СПОСОБЫ ПОЛУЧЕНИЕ СЛУЧАЙНЫХ ЧИСЕЛ С ТРЕБУЕМЫМ ЗАКОНОМ                     РАСПРЕДЕЛЕНИЯ"
   ]
  },
  {
   "cell_type": "markdown",
   "id": "c4fec530",
   "metadata": {},
   "source": [
    "**Цель работы**\n",
    "1. Практическое освоение методов получения случайных\n",
    "величин, имеющих непрерывный характер распределения.\n",
    "\n",
    "2. Разработка программных датчиков дискретных случайных\n",
    "величин.\n",
    "\n",
    "3. Оценка точности моделирования: вычисление математического ожидания и дисперсии, сравнение полученных\n",
    "оценок с соответствующими теоретическими значениями.\n",
    "\n",
    "4. Гpафическое пpедставление плотности распределения\n",
    "и интегральной функции pаспpеделения.\n",
    "\n"
   ]
  },
  {
   "cell_type": "code",
   "execution_count": 1,
   "id": "cdc85ba0",
   "metadata": {},
   "outputs": [],
   "source": [
    "import numpy as np\n",
    "import random\n",
    "import matplotlib.pyplot as plt\n",
    "%matplotlib inline"
   ]
  },
  {
   "cell_type": "code",
   "execution_count": 3,
   "id": "eab28e59",
   "metadata": {},
   "outputs": [],
   "source": [
    "n=10**4"
   ]
  },
  {
   "cell_type": "code",
   "execution_count": 2,
   "id": "bcd82cae",
   "metadata": {},
   "outputs": [],
   "source": [
    "def cumulative(density):\n",
    "    dens = [0]\n",
    "    n = sum(density)\n",
    "    for i in range(len(density)):\n",
    "        dens.append(density[i] / n + dens[i])\n",
    "    return dens"
   ]
  },
  {
   "cell_type": "markdown",
   "id": "f8a4126f",
   "metadata": {},
   "source": [
    "## Равномерное распределение (непрервыное)"
   ]
  },
  {
   "cell_type": "code",
   "execution_count": 5,
   "id": "206a48bd",
   "metadata": {},
   "outputs": [],
   "source": [
    "def p_uniform(a, b):\n",
    "    u = random.random()\n",
    "    r = (b - a) * u + a\n",
    "    return r"
   ]
  },
  {
   "cell_type": "code",
   "execution_count": 227,
   "id": "e46023fb",
   "metadata": {},
   "outputs": [],
   "source": [
    "uniform_dist = np.array([p_uniform(1, 100) for i in range(n)])\n",
    "uniform_mean = uniform_dist.mean()\n",
    "uniform_var = uniform_dist.var()"
   ]
  },
  {
   "cell_type": "code",
   "execution_count": 228,
   "id": "86299d3b",
   "metadata": {},
   "outputs": [
    {
     "name": "stdout",
     "output_type": "stream",
     "text": [
      "Оценка\n",
      "M = 50.40038689987165\n",
      "D = 816.6938708205333\n",
      "Погрешность\n",
      "m 0.09961310012835156\n",
      "d 0.056129179466665846\n"
     ]
    }
   ],
   "source": [
    "print(\"Оценка\")\n",
    "print(\"M =\", uniform_mean)\n",
    "print(\"D =\", uniform_var)\n",
    "print(\"Погрешность\")\n",
    "print('m', abs(50.5 - uniform_mean))\n",
    "print('d', abs(816.75 - uniform_var))"
   ]
  },
  {
   "cell_type": "code",
   "execution_count": 215,
   "id": "da86661c",
   "metadata": {},
   "outputs": [
    {
     "data": {
      "image/png": "[encoded data removed]",
      "text/plain": [
       "<Figure size 432x288 with 1 Axes>"
      ]
     },
     "metadata": {
      "needs_background": "light"
     },
     "output_type": "display_data"
    }
   ],
   "source": [
    "plt.title('Функция плотности распреденения, N =' + str(n))\n",
    "hist, bin_edges, _ = plt.hist(uniform_dist, density=True, rwidth = 0.9)\n",
    "plt.show()"
   ]
  },
  {
   "cell_type": "code",
   "execution_count": 216,
   "id": "5374f11e",
   "metadata": {},
   "outputs": [
    {
     "data": {
      "image/png": "[encoded data removed]",
      "text/plain": [
       "<Figure size 432x288 with 1 Axes>"
      ]
     },
     "metadata": {
      "needs_background": "light"
     },
     "output_type": "display_data"
    }
   ],
   "source": [
    "plt.title('Интегральная функция распределения, N =' + str(n))\n",
    "plt.step(bin_edges, cumulative(hist), label='pre (default)')\n",
    "plt.plot(bin_edges, cumulative(hist), 'o-', color='grey', alpha=0.3)\n",
    "plt.show()"
   ]
  },
  {
   "cell_type": "markdown",
   "id": "fc670708",
   "metadata": {},
   "source": [
    "## Нормальное распределение"
   ]
  },
  {
   "cell_type": "markdown",
   "id": "6ccd10a8",
   "metadata": {},
   "source": [
    "### Алгоритм, основанный на использовании центральной предельной теоремы"
   ]
  },
  {
   "cell_type": "code",
   "execution_count": 6,
   "id": "5ba2f213",
   "metadata": {},
   "outputs": [],
   "source": [
    "def p_norm1(m, sigma):\n",
    "    s = 0\n",
    "    for i in range(12):\n",
    "        s += random.random()\n",
    "    return m + (s - 6) * sigma"
   ]
  },
  {
   "cell_type": "code",
   "execution_count": 229,
   "id": "e9b9d714",
   "metadata": {},
   "outputs": [],
   "source": [
    "norm1 = np.array([p_norm1(0, 1) for i in range(n)])\n",
    "norm1_mean = norm1.mean()\n",
    "norm1_var = norm1.var()"
   ]
  },
  {
   "cell_type": "code",
   "execution_count": 10,
   "id": "ce4d95f2",
   "metadata": {},
   "outputs": [],
   "source": [
    "def p_norm2(m, sigma):\n",
    "    u1, u2 = random.random(), random.random()\n",
    "    z1 = (-2 * np.log(u2)) ** 0.5 * np.cos(2 * np.pi * u1)\n",
    "    return z1"
   ]
  },
  {
   "cell_type": "code",
   "execution_count": 230,
   "id": "7f3a7078",
   "metadata": {},
   "outputs": [],
   "source": [
    "norm2 = np.array([p_norm2(0, 1) for i in range(n)])\n",
    "norm2_mean = norm2.mean()\n",
    "norm2_var = norm2.var()"
   ]
  },
  {
   "cell_type": "markdown",
   "id": "168c7610",
   "metadata": {},
   "source": [
    "## Экспоненциальное распределение"
   ]
  },
  {
   "cell_type": "code",
   "execution_count": 67,
   "id": "518b4e23",
   "metadata": {},
   "outputs": [],
   "source": [
    "def p_exp(beta):\n",
    "    u = random.random()\n",
    "    x = -beta * np.log(u)\n",
    "    return x"
   ]
  },
  {
   "cell_type": "markdown",
   "id": "f259ccc6",
   "metadata": {},
   "source": [
    "## Хи-квадрат распределение"
   ]
  },
  {
   "cell_type": "code",
   "execution_count": 70,
   "id": "a5d0e595",
   "metadata": {},
   "outputs": [],
   "source": [
    "def p_chi_square(n):\n",
    "    s = 0\n",
    "    for i in range(n):\n",
    "        s += p_norm1(0, 1) ** 2\n",
    "    return s"
   ]
  },
  {
   "cell_type": "markdown",
   "id": "817fdd75",
   "metadata": {},
   "source": [
    "## Распределение Стьюдента"
   ]
  },
  {
   "cell_type": "code",
   "execution_count": 188,
   "id": "4bc83a49",
   "metadata": {},
   "outputs": [],
   "source": [
    "def p_student(n):\n",
    "    z = p_norm1(0, 1)\n",
    "    y = p_chi_square(n)\n",
    "    t = z / (y/n)**0.5\n",
    "    return t"
   ]
  },
  {
   "cell_type": "markdown",
   "id": "87c41e35",
   "metadata": {},
   "source": [
    "## Индивидуальное задание 3 вариант"
   ]
  }
 ],
 "metadata": {
  "kernelspec": {
   "display_name": "Python 3",
   "language": "python",
   "name": "python3"
  },
  "language_info": {
   "codemirror_mode": {
    "name": "ipython",
    "version": 3
   },
   "file_extension": ".py",
   "mimetype": "text/x-python",
   "name": "python",
   "nbconvert_exporter": "python",
   "pygments_lexer": "ipython3",
   "version": "3.9.7"
  }
 },
 "nbformat": 4,
 "nbformat_minor": 5
}
